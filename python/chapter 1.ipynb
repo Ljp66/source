{
 "cells": [
  {
   "cell_type": "code",
   "execution_count": 1,
   "id": "fd5adb84",
   "metadata": {},
   "outputs": [
    {
     "data": {
      "text/plain": [
       "4"
      ]
     },
     "execution_count": 1,
     "metadata": {},
     "output_type": "execute_result"
    }
   ],
   "source": [
    "2+2"
   ]
  },
  {
   "cell_type": "code",
   "execution_count": 2,
   "id": "ec2e9e61",
   "metadata": {},
   "outputs": [
    {
     "name": "stdout",
     "output_type": "stream",
     "text": [
      "Hello world!\n",
      "What is your name?\n",
      "LI Jiapeng\n",
      "It is good to meet you, LI Jiapeng\n",
      "The length of your name is:\n",
      "10\n",
      "What is your age?\n",
      "21\n",
      "You will be 22 in a year.\n"
     ]
    }
   ],
   "source": [
    "# This program says hello and asks for my name.\n",
    "\n",
    "print('Hello world!')\n",
    "print('What is your name?') # ask for their name\n",
    "myName = input()\n",
    "print('It is good to meet you, ' + myName)\n",
    "print('The length of your name is:')\n",
    "print(len(myName))\n",
    "print('What is your age?') # ask for their age\n",
    "myAge = input()\n",
    "print('You will be ' + str(int(myAge) + 1) + ' in a year.')"
   ]
  },
  {
   "cell_type": "code",
   "execution_count": 3,
   "id": "a3cf6503",
   "metadata": {},
   "outputs": [
    {
     "name": "stdout",
     "output_type": "stream",
     "text": [
      "I am 21 years old !\n"
     ]
    }
   ],
   "source": [
    "print('I am ' + '21 ' + 'years old !')"
   ]
  },
  {
   "cell_type": "code",
   "execution_count": 4,
   "id": "10fed317",
   "metadata": {},
   "outputs": [
    {
     "name": "stdout",
     "output_type": "stream",
     "text": [
      "I am 21 years old !\n"
     ]
    }
   ],
   "source": [
    "myAge = 21\n",
    "print('I am ' + str(myAge) + ' years old !')"
   ]
  },
  {
   "cell_type": "code",
   "execution_count": 6,
   "id": "b69847c6",
   "metadata": {},
   "outputs": [
    {
     "name": "stdout",
     "output_type": "stream",
     "text": [
      "1\n",
      "1.0\n",
      "1.34\n",
      "1\n"
     ]
    }
   ],
   "source": [
    "a = 1\n",
    "b = 1.34\n",
    "c = \"hello\"\n",
    "print(str(a))\n",
    "print(float(a))\n",
    "print(str(b))\n",
    "print(int(b))"
   ]
  },
  {
   "cell_type": "code",
   "execution_count": 1,
   "id": "309cfe35",
   "metadata": {},
   "outputs": [
    {
     "name": "stdout",
     "output_type": "stream",
     "text": [
      "11\n"
     ]
    },
    {
     "data": {
      "text/plain": [
       "'11'"
      ]
     },
     "execution_count": 1,
     "metadata": {},
     "output_type": "execute_result"
    }
   ],
   "source": [
    "spam = input()\n",
    "spam"
   ]
  },
  {
   "cell_type": "code",
   "execution_count": 2,
   "id": "3ad99307",
   "metadata": {},
   "outputs": [
    {
     "name": "stdout",
     "output_type": "stream",
     "text": [
      "please input your age: 22\n",
      "22.0\n"
     ]
    }
   ],
   "source": [
    "spam = float(input('please input your age: '))\n",
    "print(spam)\n"
   ]
  },
  {
   "cell_type": "code",
   "execution_count": 7,
   "id": "c94453ae",
   "metadata": {},
   "outputs": [
    {
     "data": {
      "text/plain": [
       "True"
      ]
     },
     "execution_count": 7,
     "metadata": {},
     "output_type": "execute_result"
    }
   ],
   "source": [
    "# 42 == 42\n",
    "# 32 != 3\n",
    "3 < 5\n",
    "# 7 > 3\n",
    "# 4 <= 4\n",
    "# 5 >= 4"
   ]
  },
  {
   "cell_type": "code",
   "execution_count": 6,
   "id": "e7f6ea2a",
   "metadata": {},
   "outputs": [
    {
     "name": "stdout",
     "output_type": "stream",
     "text": [
      "please input your name:peter\n",
      "Wrong !\n"
     ]
    }
   ],
   "source": [
    "name = input('please input your name:')\n",
    "if name=='Mary':\n",
    "    print(f'Hello {name} !')\n",
    "    password = input('please input password:')\n",
    "    if password=='swordfish':\n",
    "        print('Access granted.')\n",
    "    else :\n",
    "        print(\"Wrong password.\")\n",
    "else :\n",
    "    print(\"Wrong !\")"
   ]
  }
 ],
 "metadata": {
  "kernelspec": {
   "display_name": "Python 3 (ipykernel)",
   "language": "python",
   "name": "python3"
  },
  "language_info": {
   "codemirror_mode": {
    "name": "ipython",
    "version": 3
   },
   "file_extension": ".py",
   "mimetype": "text/x-python",
   "name": "python",
   "nbconvert_exporter": "python",
   "pygments_lexer": "ipython3",
   "version": "3.10.1"
  }
 },
 "nbformat": 4,
 "nbformat_minor": 5
}
